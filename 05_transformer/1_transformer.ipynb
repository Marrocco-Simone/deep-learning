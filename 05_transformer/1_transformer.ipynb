{
 "cells": [
  {
   "cell_type": "markdown",
   "metadata": {
    "deletable": false,
    "editable": false,
    "nbgrader": {
     "cell_type": "markdown",
     "checksum": "c38df0cd3f7fc2de899019ae9e982e36",
     "grade": false,
     "grade_id": "cell-f5e46023398b0aab",
     "locked": true,
     "schema_version": 3,
     "solution": false
    }
   },
   "source": [
    "<div class=\"alert alert-block alert-info\">\n",
    "<b>Deadline:</b> April 10, 2023 (Wednesday) 23:00\n",
    "</div>\n",
    "\n",
    "# Exercise 1. Neural machine translation with transformers.\n",
    "\n",
    "The goal of this exerscise is to get familiar with a transformer model, which was introduced in the paper [Attention is all you need](https://arxiv.org/pdf/1706.03762.pdf).\n",
    "\n",
    "We base our code on the [Annotated transformer](https://nlp.seas.harvard.edu/2018/04/03/attention.html) blog post.\n",
    "Module `transformer.py` contains some useful modules from that blog post. We recommend you to use those modules when we state so in the description."
   ]
  },
  {
   "cell_type": "code",
   "execution_count": 1,
   "metadata": {
    "tags": []
   },
   "outputs": [],
   "source": [
    "skip_training = True  # Set this flag to True before validation and submission"
   ]
  },
  {
   "cell_type": "code",
   "execution_count": 2,
   "metadata": {
    "deletable": false,
    "editable": false,
    "nbgrader": {
     "cell_type": "code",
     "checksum": "9cc4d569dc32e40fe066146a07b7c7b7",
     "grade": true,
     "grade_id": "evaluation_settings",
     "locked": true,
     "points": 0,
     "schema_version": 3,
     "solution": false
    },
    "tags": []
   },
   "outputs": [],
   "source": [
    "# During evaluation, this cell sets skip_training to True\n",
    "# skip_training = True\n",
    "\n",
    "import tools, warnings\n",
    "warnings.showwarning = tools.customwarn"
   ]
  },
  {
   "cell_type": "code",
   "execution_count": 3,
   "metadata": {
    "tags": []
   },
   "outputs": [],
   "source": [
    "import os\n",
    "import random\n",
    "import numpy as np\n",
    "import matplotlib.pyplot as plt\n",
    "\n",
    "import torch\n",
    "import torch.nn as nn\n",
    "import torch.optim as optim\n",
    "import torch.nn.functional as F\n",
    "from torch.utils.data import DataLoader\n",
    "\n",
    "import transformer as tr\n",
    "import tools"
   ]
  },
  {
   "cell_type": "code",
   "execution_count": 4,
   "metadata": {
    "tags": []
   },
   "outputs": [
    {
     "name": "stdout",
     "output_type": "stream",
     "text": [
      "The data directory is /coursedata\n"
     ]
    }
   ],
   "source": [
    "# When running on your own computer, you can specify the data directory by:\n",
    "# data_dir = tools.select_data_dir('/your/local/data/directory')\n",
    "data_dir = tools.select_data_dir()"
   ]
  },
  {
   "cell_type": "code",
   "execution_count": 5,
   "metadata": {
    "tags": []
   },
   "outputs": [],
   "source": [
    "# Select the device for training (use GPU if you have one)\n",
    "#device = torch.device('cuda:0')\n",
    "device = torch.device('cpu')"
   ]
  },
  {
   "cell_type": "code",
   "execution_count": 6,
   "metadata": {
    "deletable": false,
    "editable": false,
    "nbgrader": {
     "cell_type": "code",
     "checksum": "dbbca8fe9cf0cb1cb20dd200e23cfcb0",
     "grade": false,
     "grade_id": "cell-44cf6f3242607cde",
     "locked": true,
     "schema_version": 3,
     "solution": false
    },
    "tags": []
   },
   "outputs": [],
   "source": [
    "if skip_training:\n",
    "    # The models are always evaluated on CPU\n",
    "    device = torch.device(\"cpu\")"
   ]
  },
  {
   "cell_type": "markdown",
   "metadata": {
    "deletable": false,
    "editable": false,
    "nbgrader": {
     "cell_type": "markdown",
     "checksum": "d91ed28b2953b2c5909cd59854eed573",
     "grade": false,
     "grade_id": "cell-1f1e529682d7ce6d",
     "locked": true,
     "schema_version": 3,
     "solution": false
    }
   },
   "source": [
    "## Data\n",
    "\n",
    "We use the same translation dataset as in the RNN exercise."
   ]
  },
  {
   "cell_type": "code",
   "execution_count": 7,
   "metadata": {
    "deletable": false,
    "editable": false,
    "nbgrader": {
     "cell_type": "code",
     "checksum": "16144210eada0de3091243f95367f7c2",
     "grade": false,
     "grade_id": "cell-94d57799bcd1786b",
     "locked": true,
     "schema_version": 3,
     "solution": false
    },
    "tags": []
   },
   "outputs": [
    {
     "name": "stdout",
     "output_type": "stream",
     "text": [
      "Source sentence:\n",
      " as word indices:  tensor([ 118,  215, 1344,    5,    1])\n",
      " as string:  vous etes deloyaux . EOS\n",
      "Target sentence:\n",
      " as word indices:  tensor([130,  78, 724,   4,   1])\n",
      " as string:  you re disloyal . EOS\n"
     ]
    }
   ],
   "source": [
    "# Translation data\n",
    "from data import TranslationDataset, SOS_token, EOS_token, MAX_LENGTH\n",
    "trainset = TranslationDataset(data_dir, train=True)\n",
    "\n",
    "src_seq, tgt_seq = trainset[np.random.choice(len(trainset))]\n",
    "print('Source sentence:')\n",
    "print(' as word indices: ', src_seq)\n",
    "print(' as string: ', ' '.join(trainset.input_lang.index2word[i.item()] for i in src_seq))\n",
    "\n",
    "print('Target sentence:')\n",
    "print(' as word indices: ', tgt_seq)\n",
    "print(' as string: ', ' '.join(trainset.output_lang.index2word[i.item()] for i in tgt_seq))"
   ]
  },
  {
   "cell_type": "markdown",
   "metadata": {
    "deletable": false,
    "editable": false,
    "nbgrader": {
     "cell_type": "markdown",
     "checksum": "48ecf9ce3f0b267a5c738cc20ab96250",
     "grade": false,
     "grade_id": "cell-86482ed71ea81ed3",
     "locked": true,
     "schema_version": 3,
     "solution": false
    }
   },
   "source": [
    "## Custom DataLoader\n",
    "\n",
    "Next we prepare a custom data loader which puts sequences of varying lengths in one tensor. We do so by using a custom `collate_fn` (see the description of the `collate_fn` argument of [`torch.utils.data.DataLoader`](https://pytorch.org/docs/stable/data.html#torch.utils.data.DataLoader)).\n",
    "\n",
    "Our collate function combines source sequences in one tensor `src_seqs` with extra values (at the end) filled with `PADDING_VALUE=0`. To tell the transformer which elements are padded, we also need to compute the mask `src_mask`.\n",
    "\n",
    "The function also combines target sequences in one tensor `tgt_seqs` but it does it a bit differently:\n",
    "* The resulting tensor is of shape `(max_tgt_seq_length+1, batch_size)`, where `max_tgt_seq_length` is the length of the longest target sequence in the mini-batch.\n",
    "* The first element of each sequence in the resulting tensor is `SOS_token`.\n",
    "* The remaining elements are filled similarly to the source sequences with extra values (at the end) filled with `PADDING_VALUE=0`.\n",
    "\n",
    "We will use tensor `tgt_seqs[:-1]` as inputs of the transformer decoder and `tgt_seqs[1:]` as the targets for the model (decoder) outputs. The `SOS_token` is needed to predict the first word in the output sequence in the corresponding (first) location of the decoder output.\n",
    "\n",
    "Your task is to implement this function."
   ]
  },
  {
   "cell_type": "code",
   "execution_count": 8,
   "metadata": {
    "deletable": false,
    "editable": false,
    "nbgrader": {
     "cell_type": "code",
     "checksum": "364bdf1c40bbfd85d74a002df498033f",
     "grade": false,
     "grade_id": "cell-77f035ba6ccb554d",
     "locked": true,
     "schema_version": 3,
     "solution": false,
     "task": false
    },
    "tags": []
   },
   "outputs": [],
   "source": [
    "PADDING_VALUE = 0"
   ]
  },
  {
   "cell_type": "code",
   "execution_count": 9,
   "metadata": {
    "deletable": false,
    "nbgrader": {
     "cell_type": "code",
     "checksum": "d80be252d280552db0469e868f6c2ed0",
     "grade": false,
     "grade_id": "collate",
     "locked": false,
     "schema_version": 3,
     "solution": true,
     "task": false
    },
    "tags": []
   },
   "outputs": [],
   "source": [
    "from torch.nn.utils.rnn import pad_sequence\n",
    "\n",
    "def collate(list_of_samples):\n",
    "    \"\"\"Merges a list of samples to form a mini-batch.\n",
    "\n",
    "    Args:\n",
    "      list_of_samples is a list of tuples (src_seq, tgt_seq):\n",
    "          src_seq is of shape (src_seq_length)\n",
    "          tgt_seq is of shape (tgt_seq_length)\n",
    "\n",
    "    Returns:\n",
    "      src_seqs of shape (max_src_seq_length, batch_size): LongTensor of padded source sequences.\n",
    "      src_mask of shape (max_src_seq_length, batch_size): BoolTensor (tensor with boolean elements) indicating which\n",
    "          elements of the src_seqs tensor should be ignored in computations: True values in src_mask correspond\n",
    "          to padding values in src_seqs.\n",
    "      tgt_seqs of shape (max_tgt_seq_length+1, batch_size): LongTensor of padded target sequences.\n",
    "    \"\"\"\n",
    "    # YOUR CODE HERE\n",
    "    # list_of_samples.sort(key=lambda s: s[0].size()[0], reverse=True)\n",
    "    src_seqs = []\n",
    "    tgt_seqs = []\n",
    "    for s in list_of_samples:\n",
    "        src_seqs.append(s[0])\n",
    "        tgt_seqs.append(s[1])\n",
    "    src_seqs = pad_sequence(src_seqs, padding_value= PADDING_VALUE)\n",
    "    tgt_seqs = pad_sequence(tgt_seqs, padding_value= PADDING_VALUE)\n",
    "    src_mask = (src_seqs == PADDING_VALUE)\n",
    "    diff = len(src_seqs) - (len(tgt_seqs) - 1)\n",
    "    sos = torch.LongTensor(SOS_token * np.ones((diff, len(list_of_samples))))\n",
    "    tgt_seqs = torch.cat((sos, tgt_seqs))\n",
    "    return src_seqs, src_mask, tgt_seqs"
   ]
  },
  {
   "cell_type": "code",
   "execution_count": 10,
   "metadata": {
    "deletable": false,
    "editable": false,
    "nbgrader": {
     "cell_type": "code",
     "checksum": "3ce1cbec7ff20d420fc4a68362c5e481",
     "grade": false,
     "grade_id": "cell-a99b4cfa1fc559f7",
     "locked": true,
     "schema_version": 3,
     "solution": false,
     "task": false
    },
    "tags": []
   },
   "outputs": [
    {
     "name": "stdout",
     "output_type": "stream",
     "text": [
      "Success\n"
     ]
    }
   ],
   "source": [
    "def test_collate_shapes():\n",
    "    pairs = [\n",
    "        (torch.LongTensor([2, EOS_token]), torch.LongTensor([3, 4, EOS_token])),\n",
    "        (torch.LongTensor([6, 7, EOS_token]), torch.LongTensor([9, EOS_token])),\n",
    "    ]\n",
    "    src_seqs, src_mask, tgt_seqs = collate(pairs)\n",
    "    assert src_seqs.dtype == torch.long, f\"Wrong src_seqs.dtype: {src_seqs.dtype}\"\n",
    "    assert src_seqs.shape == torch.Size([3, 2]), f\"Wrong src_seqs.shape: {src_seqs.shape}\"\n",
    "\n",
    "    assert tgt_seqs.dtype == torch.long, f\"Wrong tgt_seqs.dtype: {tgt_seqs.dtype}\"\n",
    "    assert tgt_seqs.shape == torch.Size([4, 2]), f\"Wrong tgt_seqs.shape: {tgt_seqs.shape}\"\n",
    "    assert (tgt_seqs[0] == torch.empty(2, dtype=torch.long).fill_(SOS_token)).all(), \"Target sequences should start with SOS_token.\"\n",
    "    \n",
    "    assert src_mask.dtype == torch.bool, f\"Wrong src_mask.dtype: {src_mask.dtype}\"\n",
    "    assert src_mask.shape == src_seqs.shape, f\"Wrong src_mask.shape: {src_mask.shape}\"\n",
    "    print('Success')\n",
    "\n",
    "test_collate_shapes()"
   ]
  },
  {
   "cell_type": "code",
   "execution_count": 11,
   "metadata": {
    "deletable": false,
    "editable": false,
    "nbgrader": {
     "cell_type": "code",
     "checksum": "8c7e0bd6756641450a7b09587483ecdc",
     "grade": true,
     "grade_id": "test_collate",
     "locked": true,
     "points": 1,
     "schema_version": 3,
     "solution": false,
     "task": false
    },
    "tags": []
   },
   "outputs": [
    {
     "name": "stdout",
     "output_type": "stream",
     "text": [
      "src_seqs:\n",
      " tensor([[2, 6],\n",
      "        [1, 7],\n",
      "        [0, 1]])\n",
      "src_mask:\n",
      " tensor([[False, False],\n",
      "        [False, False],\n",
      "        [ True, False]])\n",
      "tgt_seqs:\n",
      " tensor([[0, 0],\n",
      "        [3, 9],\n",
      "        [4, 1],\n",
      "        [1, 0]])\n",
      "Success\n"
     ]
    }
   ],
   "source": [
    "# This cell tests collate()\n",
    "def test_collate():\n",
    "    pairs = [\n",
    "        (torch.LongTensor([2, EOS_token]), torch.LongTensor([3, 4, EOS_token])),\n",
    "        (torch.LongTensor([6, 7, EOS_token]), torch.LongTensor([9, EOS_token])),\n",
    "    ]\n",
    "    src_seqs, src_mask, tgt_seqs = collate(pairs)\n",
    "    #src_seqs, src_mask, tgt_seqs = src_seqs[:, [1, 0]], src_mask[:, [1, 0]], tgt_seqs[:, [1, 0]]\n",
    "    print('src_seqs:\\n', src_seqs)\n",
    "    print('src_mask:\\n', src_mask)\n",
    "    print('tgt_seqs:\\n', tgt_seqs)\n",
    "    expected_src_seqs = torch.tensor([\n",
    "        [2,         6],\n",
    "        [EOS_token, 7],\n",
    "        [0,         EOS_token]\n",
    "    ])\n",
    "    expected_src_mask = torch.tensor([\n",
    "        [False, False],\n",
    "        [False, False],\n",
    "        [ True, False]\n",
    "    ])\n",
    "    expected_tgt_seqs = torch.tensor([\n",
    "        [0,         0],\n",
    "        [3,         9],\n",
    "        [4,         EOS_token],\n",
    "        [EOS_token, 0]\n",
    "    ])\n",
    "    \n",
    "    assert ((\n",
    "        (src_seqs == expected_src_seqs).all()\n",
    "         and (src_mask == expected_src_mask).all()\n",
    "         and (tgt_seqs == expected_tgt_seqs).all()\n",
    "        ) or (\n",
    "        (src_seqs == expected_src_seqs[:, [1, 0]]).all()\n",
    "         and (src_mask == expected_src_mask[:, [1, 0]]).all()\n",
    "         and (tgt_seqs == expected_tgt_seqs[:, [1, 0]]).all()\n",
    "        )\n",
    "    ), \"Wrong outputs of collate.\"\n",
    "    print('Success')\n",
    "\n",
    "test_collate()"
   ]
  },
  {
   "cell_type": "code",
   "execution_count": 12,
   "metadata": {
    "deletable": false,
    "editable": false,
    "nbgrader": {
     "cell_type": "code",
     "checksum": "f103d72cfd56ec7f6e42872740b6f395",
     "grade": false,
     "grade_id": "cell-e0a6bbaf21ae2a36",
     "locked": true,
     "schema_version": 3,
     "solution": false,
     "task": false
    },
    "tags": []
   },
   "outputs": [],
   "source": [
    "# We create custom DataLoader using the implemented collate function\n",
    "# We are going to process 64 sequences at the same time (batch_size=64)\n",
    "trainloader = DataLoader(dataset=trainset, batch_size=64, shuffle=True, collate_fn=collate, pin_memory=True)"
   ]
  },
  {
   "cell_type": "code",
   "execution_count": 13,
   "metadata": {
    "deletable": false,
    "editable": false,
    "nbgrader": {
     "cell_type": "code",
     "checksum": "d04f108eaf1d8095c09d0b440b75a212",
     "grade": false,
     "grade_id": "cell-847fb19371903dba",
     "locked": true,
     "schema_version": 3,
     "solution": false,
     "task": false
    },
    "tags": []
   },
   "outputs": [],
   "source": [
    "# Create test set\n",
    "testset = TranslationDataset(data_dir, train=False)\n",
    "testloader = DataLoader(dataset=testset, batch_size=64, shuffle=False, collate_fn=collate)"
   ]
  },
  {
   "cell_type": "markdown",
   "metadata": {
    "deletable": false,
    "editable": false,
    "nbgrader": {
     "cell_type": "markdown",
     "checksum": "6627cb26c83634c853b5749710275900",
     "grade": false,
     "grade_id": "cell-3f6dfc8dc7015270",
     "locked": true,
     "schema_version": 3,
     "solution": false
    }
   },
   "source": [
    "# Transformer"
   ]
  },
  {
   "cell_type": "markdown",
   "metadata": {
    "deletable": false,
    "editable": false,
    "nbgrader": {
     "cell_type": "markdown",
     "checksum": "6dae02152084b2cb3f988c5da5c0e588",
     "grade": false,
     "grade_id": "cell-63be98428fcdc0b0",
     "locked": true,
     "schema_version": 3,
     "solution": false,
     "task": false
    }
   },
   "source": [
    "## Encoder block\n",
    "\n",
    "<img src=\"encoder_block.png\" width=150 style=\"float: right;\">\n",
    "\n",
    "We first implement one block of the transformer encoder (see the figure on the right).\n",
    "* We recommend you to use layers available in PyTorch:\n",
    "  * [nn.LayerNorm](https://pytorch.org/docs/stable/generated/torch.nn.LayerNorm.html#torch.nn.LayerNorm) to implement the `Norm` layer in the figure\n",
    "  * [nn.Dropout](https://pytorch.org/docs/stable/generated/torch.nn.Dropout.html#torch.nn.Dropout) to implement dropout\n",
    "  * [nn.MultiheadAttention](https://pytorch.org/docs/stable/generated/torch.nn.MultiheadAttention.html#torch.nn.MultiheadAttention) to implement `Multi-Head Attention`.\n",
    "\n",
    "* `Feedforward` is simply an MLP processing each position (each element of the source sequence) independently. The exact implementation of the MLP is not tested in this notebook. We used an MLP with:\n",
    "  * one hidden layer with `n_hidden` neurons\n",
    "  * a dropout and ReLU activation after the hidden layer\n",
    "  * an output layer with `n_features` outputs.\n",
    "\n",
    "* In two places where skip connections are used, we apply dropout on the main path, combine the main path with the skip connection and then apply layer normalization. This order is slightly different to the [Annotated transformer](https://nlp.seas.harvard.edu/2018/04/03/attention.html) code.\n",
    "\n",
    "Hints:\n",
    "* **We recommend you to test that the padded values of the input sequence do not affect the outputs in the positions that correspond to non-padded values.**"
   ]
  },
  {
   "cell_type": "code",
   "execution_count": 14,
   "metadata": {
    "deletable": false,
    "nbgrader": {
     "cell_type": "code",
     "checksum": "9d490069146fdfa32112d33744eb59d1",
     "grade": false,
     "grade_id": "EncoderBlock",
     "locked": false,
     "schema_version": 3,
     "solution": true,
     "task": false
    }
   },
   "outputs": [],
   "source": [
    "class EncoderBlock(nn.Module):\n",
    "    def __init__(self, n_features, n_heads, n_hidden=64, dropout=0.1):\n",
    "        \"\"\"\n",
    "        Args:\n",
    "          n_features: Number of input and output features.\n",
    "          n_heads: Number of attention heads in the Multi-Head Attention.\n",
    "          n_hidden: Number of hidden units in the Feedforward (MLP) block.\n",
    "          dropout: Dropout rate after the first layer of the MLP and in two places on the main path (before\n",
    "                   combining the main path with a skip connection).\n",
    "        \"\"\"\n",
    "        # YOUR CODE HERE\n",
    "        super(EncoderBlock, self).__init__()\n",
    "        self.norm_1 = nn.LayerNorm(n_features)\n",
    "        self.norm_2 = nn.LayerNorm(n_features)\n",
    "\n",
    "        self.dropout_1 = nn.Dropout(dropout)\n",
    "        self.dropout_2 = nn.Dropout(dropout)\n",
    "        \n",
    "        self.multihead = nn.MultiheadAttention(n_features, n_heads)\n",
    "\n",
    "        self.feed = nn.Sequential(\n",
    "            nn.Linear(n_features, n_hidden),\n",
    "            nn.Dropout(dropout),\n",
    "            nn.ReLU(),\n",
    "            nn.Linear(n_hidden, n_features)\n",
    "        )\n",
    "        \n",
    "    def forward(self, x, mask):\n",
    "        \"\"\"\n",
    "        Args:\n",
    "          x of shape (max_seq_length, batch_size, n_features): Input sequences.\n",
    "          mask of shape (max_seq_length, batch_size): BoolTensor indicating which elements of the input\n",
    "              sequences should be ignored (True values correspond to ignored elements in x).\n",
    "        \n",
    "        Returns:\n",
    "          z of shape (max_seq_length, batch_size, n_features): Encoded input sequences.\n",
    "\n",
    "        Note: All intermediate signals should be of shape (max_seq_length, batch_size, n_features).\n",
    "        \"\"\"\n",
    "        # YOUR CODE HERE\n",
    "        first = self.norm_1(self.dropout_1(self.multihead(x, x, x, key_padding_mask = mask.T)[0]) + x)   \n",
    "        final = self.norm_2(self.dropout_2(first))\n",
    "        return final"
   ]
  },
  {
   "cell_type": "code",
   "execution_count": 15,
   "metadata": {
    "deletable": false,
    "editable": false,
    "nbgrader": {
     "cell_type": "code",
     "checksum": "d0146983a24b7930bef1ba41bd0c3d4e",
     "grade": false,
     "grade_id": "cell-67f5cb6fdfecf7d0",
     "locked": true,
     "schema_version": 3,
     "solution": false,
     "task": false
    }
   },
   "outputs": [
    {
     "name": "stdout",
     "output_type": "stream",
     "text": [
      "Success\n"
     ]
    }
   ],
   "source": [
    "def test_EncoderBlock_shapes():\n",
    "    encoder_block = EncoderBlock(n_features=16, n_heads=4, n_hidden=64)\n",
    "\n",
    "    x = torch.tensor([\n",
    "        [1, 2],\n",
    "        [3, 4],\n",
    "        [5, 0],\n",
    "        [6, 0],\n",
    "    ]).float().view(4, 2, 1).repeat(1, 1, 16)  # (max_seq_length, batch_size, n_features)\n",
    "\n",
    "    mask = torch.tensor([\n",
    "        [0, 0],\n",
    "        [0, 0],\n",
    "        [0, 1],\n",
    "        [0, 1],\n",
    "    ], dtype=torch.bool)  # (max_seq_length, batch_size)\n",
    "    outputs = encoder_block(x, mask)\n",
    "    assert outputs.shape == torch.Size([4, 2, 16]), f\"Wrong outputs.shape: {outputs.shape}\"\n",
    "    print('Success')\n",
    "\n",
    "test_EncoderBlock_shapes()"
   ]
  },
  {
   "cell_type": "code",
   "execution_count": 16,
   "metadata": {
    "deletable": false,
    "editable": false,
    "nbgrader": {
     "cell_type": "code",
     "checksum": "54926fc1f539f5d07dcba0047f2b9c8b",
     "grade": true,
     "grade_id": "test_EncoderBlock",
     "locked": true,
     "points": 1,
     "schema_version": 3,
     "solution": false,
     "task": false
    }
   },
   "outputs": [
    {
     "name": "stdout",
     "output_type": "stream",
     "text": [
      "outputs1[:2,1,:]:\n",
      " tensor([[ 1.5629,  0.6823, -0.5737,  0.4174, -0.8977,  0.3036,  0.9374, -1.1494,\n",
      "          1.7780, -0.2617,  0.1489, -0.9095, -0.8719, -1.8317, -0.4006,  1.0655],\n",
      "        [ 1.5307,  0.6834, -0.5903,  0.4150, -0.8574,  0.2498,  0.9381, -1.1365,\n",
      "          1.8379, -0.2758,  0.1666, -0.8545, -0.9080, -1.8341, -0.4234,  1.0584]])\n",
      "outputs2[:2,1,:]:\n",
      " tensor([[ 1.6026,  0.6105, -0.5134,  0.4888, -0.9520,  0.2700,  0.9033, -1.1668,\n",
      "          1.7839, -0.3088,  0.1580, -0.9542, -0.8204, -1.7798, -0.4076,  1.0860],\n",
      "        [ 1.5904,  0.6099, -0.5221,  0.4898, -0.9296,  0.2351,  0.8903, -1.1607,\n",
      "          1.8309, -0.3261,  0.1655, -0.9240, -0.8394, -1.7720, -0.4183,  1.0804]])\n",
      "outputs3[:2,1,:]:\n",
      " tensor([[ 1.6026,  0.6105, -0.5134,  0.4888, -0.9520,  0.2700,  0.9033, -1.1668,\n",
      "          1.7839, -0.3088,  0.1580, -0.9542, -0.8204, -1.7798, -0.4076,  1.0860],\n",
      "        [ 1.5904,  0.6099, -0.5221,  0.4898, -0.9296,  0.2351,  0.8903, -1.1607,\n",
      "          1.8309, -0.3261,  0.1655, -0.9240, -0.8394, -1.7720, -0.4183,  1.0804]])\n",
      "Success\n"
     ]
    }
   ],
   "source": [
    "# This cell tests EncoderBlock\n",
    "# Check that the signal does not propagate from the padded elements\n",
    "import unittest.mock\n",
    "\n",
    "def no_dropout(x, *args, **kwargs):\n",
    "    return x\n",
    "\n",
    "@unittest.mock.patch('torch.nn.functional.dropout', no_dropout)  # .eval() does not disable F.dropout()\n",
    "def test_EncoderBlock():\n",
    "    with torch.no_grad():\n",
    "        encoder_block = EncoderBlock(n_features=16, n_heads=4, n_hidden=64)\n",
    "\n",
    "        x = torch.tensor([\n",
    "            [1, 2],\n",
    "            [3, 4],\n",
    "            [5, 0],\n",
    "            [6, 0],\n",
    "        ]).float().view(4, 2, 1).repeat(1, 1, 16)  # (max_seq_length, batch_size, n_features)\n",
    "\n",
    "        mask = torch.tensor([\n",
    "            [0, 0],\n",
    "            [0, 0],\n",
    "            [0, 1],\n",
    "            [0, 1],\n",
    "        ], dtype=torch.bool)  # (max_seq_length, batch_size)\n",
    "\n",
    "        outputs1 = encoder_block(x, mask)\n",
    "        print('outputs1[:2,1,:]:\\n', outputs1[:2,1,:])\n",
    "\n",
    "        # Modify non-padded values\n",
    "        x[:2,1,:] = x[:2,1,:] + 1\n",
    "        outputs2 = encoder_block(x, mask)\n",
    "        print('outputs2[:2,1,:]:\\n', outputs2[:2,1,:])\n",
    "        diff = outputs2[:2,1,:] - outputs1[:2,1,:]\n",
    "        assert torch.max(torch.abs(diff)) > 0, \"Some elements of the source sequence do not affect the output.\"\n",
    "        \n",
    "        # Modify padded values\n",
    "        x[2:,1,:] = x[2:,1,:] + 1\n",
    "        outputs3 = encoder_block(x, mask)\n",
    "        print('outputs3[:2,1,:]:\\n', outputs3[:2,1,:])\n",
    "        diff = outputs3[:2,1,:] - outputs2[:2,1,:]\n",
    "        assert torch.max(torch.abs(diff)) == 0, \"Padding values affect the output.\"\n",
    "        \n",
    "        print('Success')\n",
    "\n",
    "test_EncoderBlock()"
   ]
  },
  {
   "cell_type": "markdown",
   "metadata": {
    "deletable": false,
    "editable": false,
    "nbgrader": {
     "cell_type": "markdown",
     "checksum": "f1506a5cd79b342fd5325431e939fc59",
     "grade": false,
     "grade_id": "cell-e2776b50381263dd",
     "locked": true,
     "schema_version": 3,
     "solution": false,
     "task": false
    }
   },
   "source": [
    "<img src=\"encoder.png\" width=200 style=\"float: right;\">\n",
    "\n",
    "## Encoder\n",
    "\n",
    "The encoder is a stack of the following blocks:\n",
    "* Embedding of words (please use [nn.Embedding](https://pytorch.org/docs/stable/generated/torch.nn.Embedding.html#torch.nn.Embedding))\n",
    "* Positional encoding (please use `tr.PositionalEncoding` from the attached module)\n",
    "* `n_blocks` of the `EncoderBlock` modules.\n",
    "\n",
    "Notes:\n",
    "* Provided implementation of `tr.PositionalEncoding` is the same as in [Annotated transformer](https://nlp.seas.harvard.edu/2018/04/03/attention.html) blog post. See the blog post for more detail.\n",
    "* Our longest sequences have length `MAX_LENGTH`, this is the value that you can use when you specify `PositionalEncoding`."
   ]
  },
  {
   "cell_type": "code",
   "execution_count": 17,
   "metadata": {
    "deletable": false,
    "nbgrader": {
     "cell_type": "code",
     "checksum": "50bf400c4630234e0437a7c18c884abd",
     "grade": false,
     "grade_id": "Encoder",
     "locked": false,
     "schema_version": 3,
     "solution": true,
     "task": false
    }
   },
   "outputs": [],
   "source": [
    "class Encoder(nn.Module):\n",
    "    def __init__(self, src_vocab_size, n_blocks, n_features, n_heads, n_hidden=64, dropout=0.1):\n",
    "        \"\"\"\n",
    "        Args:\n",
    "          src_vocab_size: Number of words in the source vocabulary.\n",
    "          n_blocks: Number of EncoderBlock blocks.\n",
    "          n_features: Number of features to be used for word embedding and further in all layers of the encoder.\n",
    "          n_heads: Number of attention heads inside the EncoderBlock.\n",
    "          n_hidden: Number of hidden units in the Feedforward block of EncoderBlock.\n",
    "          dropout: Dropout level used in EncoderBlock.\n",
    "        \"\"\"\n",
    "        # YOUR CODE HERE\n",
    "        super(Encoder, self).__init__()\n",
    "        self.embedding = nn.Embedding(src_vocab_size, n_features)\n",
    "        self.encoding = tr.PositionalEncoding(n_features, dropout, MAX_LENGTH)\n",
    "        self.blocks = nn.ModuleList()\n",
    "        for _ in range(n_blocks):\n",
    "            self.blocks.append(EncoderBlock(n_features, n_heads, n_hidden, dropout))\n",
    "            \n",
    "    def forward(self, x, mask):\n",
    "        \"\"\"\n",
    "        Args:\n",
    "          x of shape (max_seq_length, batch_size): LongTensor with the input sequences.\n",
    "          mask of shape (max_seq_length, batch_size): BoolTensor indicating which elements should be ignored.\n",
    "        \n",
    "        Returns:\n",
    "          z of shape (max_seq_length, batch_size, n_features): Encoded input sequences.\n",
    "\n",
    "        Note: All intermediate signals should be of shape (max_seq_length, batch_size, n_features).\n",
    "        \"\"\"\n",
    "        # YOUR CODE HERE\n",
    "        x = self.encoding(self.embedding(x))\n",
    "        for block in self.blocks:\n",
    "            x = block(x, mask)\n",
    "        return x"
   ]
  },
  {
   "cell_type": "code",
   "execution_count": 18,
   "metadata": {
    "deletable": false,
    "editable": false,
    "nbgrader": {
     "cell_type": "code",
     "checksum": "84a652b200c4f5bbfa06a5c36071dd3c",
     "grade": false,
     "grade_id": "cell-01134ebab1f5117e",
     "locked": true,
     "schema_version": 3,
     "solution": false,
     "task": false
    }
   },
   "outputs": [
    {
     "name": "stdout",
     "output_type": "stream",
     "text": [
      "Success\n"
     ]
    }
   ],
   "source": [
    "def test_Encoder_shapes():\n",
    "    encoder = Encoder(src_vocab_size=10, n_blocks=1, n_features=16, n_heads=4, n_hidden=64)\n",
    "\n",
    "    x = torch.tensor([\n",
    "        [SOS_token,     SOS_token],\n",
    "        [        3,             4],\n",
    "        [        5,     EOS_token],\n",
    "        [        6, PADDING_VALUE],\n",
    "        [EOS_token, PADDING_VALUE],\n",
    "    ])  # (max_seq_length, batch_size)\n",
    "\n",
    "    mask = torch.tensor([\n",
    "        [0, 0],\n",
    "        [0, 0],\n",
    "        [0, 0],\n",
    "        [0, 1],\n",
    "        [0, 1],\n",
    "    ], dtype=torch.bool)  # (max_seq_length, batch_size)\n",
    "    outputs = encoder(x, mask)\n",
    "    assert outputs.shape == torch.Size([5, 2, 16]), f\"Wrong outputs.shape: {outputs.shape}\"\n",
    "    print('Success')\n",
    "\n",
    "test_Encoder_shapes()"
   ]
  },
  {
   "cell_type": "markdown",
   "metadata": {
    "deletable": false,
    "editable": false,
    "nbgrader": {
     "cell_type": "markdown",
     "checksum": "c59d3e8bf698511a855df8b7fbc04491",
     "grade": false,
     "grade_id": "cell-102038af7faba64b",
     "locked": true,
     "schema_version": 3,
     "solution": false,
     "task": false
    }
   },
   "source": [
    "# Decoding"
   ]
  },
  {
   "cell_type": "markdown",
   "metadata": {
    "deletable": false,
    "editable": false,
    "nbgrader": {
     "cell_type": "markdown",
     "checksum": "0d34b280c27c18042a00b922f9e47d40",
     "grade": false,
     "grade_id": "cell-3133e50590987e56",
     "locked": true,
     "schema_version": 3,
     "solution": false
    }
   },
   "source": [
    "## Subsequent mask\n",
    "\n",
    "In the training loop, we will use target sequences (starting with `SOS_token`) as inputs of the decoder. By doing that, we make it possible for the decoder to use previously decoded words when predicting probabilities of the next word. This idea is similar to the way decoding was done in the RNN exercise. However, the computations are parallelized in the transformer decoder, and the probabilities of each word in the target sequence are produced by doing one pass through the decoder.\n",
    "\n",
    "During decoding, we need to make sure that when we compute the probability of the next word, we only use preceding and not subsequent words. In transformers, this is done by providing a mask which tells which elements should be used or ignored when producing the output. The following function produces this kind of mask.\n",
    "\n",
    "The $i$-th row in the produced mask says which of the input elements should be used to compute the $i$-th element of the output:\n",
    "* `0`: the corresponding element of the input sequence can be used.\n",
    "* `-inf`: the corresponding element of the input sequence cannot be used."
   ]
  },
  {
   "cell_type": "code",
   "execution_count": 19,
   "metadata": {
    "deletable": false,
    "editable": false,
    "nbgrader": {
     "cell_type": "code",
     "checksum": "c91dbc90b6c803baeffb280bbf39324b",
     "grade": false,
     "grade_id": "cell-c2dfee9a9f2d674e",
     "locked": true,
     "schema_version": 3,
     "solution": false,
     "task": false
    }
   },
   "outputs": [],
   "source": [
    "def subsequent_mask(sz):\n",
    "    mask = (torch.triu(torch.ones(sz, sz)) == 1).transpose(0, 1).float()\n",
    "    mask = mask.masked_fill(mask == 0, float('-inf')).masked_fill(mask == 1, float(0.0))\n",
    "    return mask"
   ]
  },
  {
   "cell_type": "code",
   "execution_count": 20,
   "metadata": {
    "deletable": false,
    "editable": false,
    "nbgrader": {
     "cell_type": "code",
     "checksum": "20d6d1ff1df0c0609a1cfc1954e4e94c",
     "grade": false,
     "grade_id": "cell-ec36a7f1884b54f0",
     "locked": true,
     "schema_version": 3,
     "solution": false,
     "task": false
    }
   },
   "outputs": [
    {
     "name": "stdout",
     "output_type": "stream",
     "text": [
      "tensor([[0., -inf, -inf, -inf, -inf, -inf, -inf, -inf, -inf, -inf],\n",
      "        [0., 0., -inf, -inf, -inf, -inf, -inf, -inf, -inf, -inf],\n",
      "        [0., 0., 0., -inf, -inf, -inf, -inf, -inf, -inf, -inf],\n",
      "        [0., 0., 0., 0., -inf, -inf, -inf, -inf, -inf, -inf],\n",
      "        [0., 0., 0., 0., 0., -inf, -inf, -inf, -inf, -inf],\n",
      "        [0., 0., 0., 0., 0., 0., -inf, -inf, -inf, -inf],\n",
      "        [0., 0., 0., 0., 0., 0., 0., -inf, -inf, -inf],\n",
      "        [0., 0., 0., 0., 0., 0., 0., 0., -inf, -inf],\n",
      "        [0., 0., 0., 0., 0., 0., 0., 0., 0., -inf],\n",
      "        [0., 0., 0., 0., 0., 0., 0., 0., 0., 0.]])\n"
     ]
    },
    {
     "data": {
      "text/plain": [
       "<matplotlib.image.AxesImage at 0x7f4c6c39c730>"
      ]
     },
     "execution_count": 20,
     "metadata": {},
     "output_type": "execute_result"
    },
    {
     "data": {
      "image/png": "[encoded data removed]",
      "text/plain": [
       "<Figure size 640x480 with 1 Axes>"
      ]
     },
     "metadata": {},
     "output_type": "display_data"
    }
   ],
   "source": [
    "# This is a typical mask that we need to use while decoding\n",
    "mask = subsequent_mask(10)\n",
    "print(mask)\n",
    "plt.imshow(mask)"
   ]
  },
  {
   "cell_type": "markdown",
   "metadata": {
    "deletable": false,
    "editable": false,
    "nbgrader": {
     "cell_type": "markdown",
     "checksum": "cc8d9b4f4abdbff54da696cb4047223d",
     "grade": false,
     "grade_id": "cell-c26c4a8fecf141bd",
     "locked": true,
     "schema_version": 3,
     "solution": false,
     "task": false
    }
   },
   "source": [
    "<img src=\"decoder_block.png\" width=150 style=\"float: right;\">\n",
    "\n",
    "## Decoder block\n",
    "\n",
    "Next we implement one block of the transformer decoder (see the figure on the right).\n",
    "* We recommend you to use layers available in PyTorch:\n",
    "  * [nn.LayerNorm](https://pytorch.org/docs/stable/generated/torch.nn.LayerNorm.html#torch.nn.LayerNorm) to implement the `Norm` layer in the figure\n",
    "  * [nn.Dropout](https://pytorch.org/docs/stable/generated/torch.nn.Dropout.html#torch.nn.Dropout) to implement dropout\n",
    "  * [nn.MultiheadAttention](https://pytorch.org/docs/stable/generated/torch.nn.MultiheadAttention.html#torch.nn.MultiheadAttention) to implement `Multi-Head Attention`.\n",
    "\n",
    "* `Feedforward` is simply an MLP processing each position (each element of the source sequence) independently. The exact implementation of the MLP is not tested in this notebook. We used an MLP with:\n",
    "  * one hidden layer with `n_hidden` neurons\n",
    "  * a dropout and ReLU activation after the hidden layer\n",
    "  * an output layer with `n_features` outputs.\n",
    "\n",
    "* In three places where skip connections are used, we applied dropout on the main path, combined the main path with the skip connection and then applied layer normalization. This order is slightly different to the [Annotated transformer](https://nlp.seas.harvard.edu/2018/04/03/attention.html) code.\n",
    "\n",
    "Notes:\n",
    "* The first attention block is self-attention when query, key and value inputs are same. The second attention block uses the encoded `z` values as keys and values, and the outputs of the previous layer as query.\n",
    "* **We recommend you to test that the subsequent values of the input sequence do not affect the outputs.**"
   ]
  },
  {
   "cell_type": "code",
   "execution_count": 21,
   "metadata": {
    "deletable": false,
    "nbgrader": {
     "cell_type": "code",
     "checksum": "c362c463285842998fa3f021db9c3fd4",
     "grade": false,
     "grade_id": "DecoderBlock",
     "locked": false,
     "schema_version": 3,
     "solution": true,
     "task": false
    }
   },
   "outputs": [],
   "source": [
    "class DecoderBlock(nn.Module):\n",
    "    def __init__(self, n_features, n_heads, n_hidden=64, dropout=0.1):\n",
    "        \"\"\"\n",
    "        Args:\n",
    "          n_features: Number of input and output features.\n",
    "          n_heads: Number of attention heads in the Multi-Head Attention.\n",
    "          n_hidden: Number of hidden units in the Feedforward (MLP) block.\n",
    "          dropout: Dropout rate after the first layer of the MLP and in three places on the main path (before\n",
    "                   combining the main path with a skip connection).\n",
    "        \"\"\"\n",
    "        # YOUR CODE HERE\n",
    "        super(DecoderBlock, self).__init__()\n",
    "        self.multihead_att_1 = nn.MultiheadAttention(n_features, n_heads)\n",
    "        self.multihead_att_2 = nn.MultiheadAttention(n_features, n_heads)\n",
    "        \n",
    "        self.dropout_1 = nn.Dropout(dropout)\n",
    "        self.dropout_2 = nn.Dropout(dropout)\n",
    "        self.dropout_3 = nn.Dropout(dropout)\n",
    "        \n",
    "        self.norm_1 = nn.LayerNorm(n_features)\n",
    "        self.norm_2 = nn.LayerNorm(n_features)\n",
    "        self.norm_3 = nn.LayerNorm(n_features)\n",
    "        \n",
    "        self.feed = nn.Sequential(\n",
    "            nn.Linear(n_features, n_hidden),\n",
    "            nn.Dropout(dropout),\n",
    "            nn.ReLU(),\n",
    "            nn.Linear(n_hidden, n_features)\n",
    "        )\n",
    "\n",
    "    def forward(self, y, z, src_mask, tgt_mask):\n",
    "        \"\"\"\n",
    "        Args:\n",
    "          y of shape (max_tgt_seq_length, batch_size, n_features): Transformed target sequences used as the inputs\n",
    "              of the block.\n",
    "          z of shape (max_src_seq_length, batch_size, n_features): Encoded source sequences (outputs of the\n",
    "              encoder).\n",
    "          src_mask of shape (max_src_seq_length, batch_size): BoolTensor indicating which elements of the\n",
    "             encoded source sequences should be ignored.\n",
    "          tgt_mask of shape (max_tgt_seq_length, max_tgt_seq_length): Subsequent mask to ignore subsequent\n",
    "             elements of the target sequences in the inputs. The rows of this matrix correspond to the output\n",
    "             elements and the columns correspond to the input elements.\n",
    "        \n",
    "        Returns:\n",
    "          out of shape (max_seq_length, batch_size, n_features): Output tensor.\n",
    "\n",
    "        Note: All intermediate signals should be of shape (max_seq_length, batch_size, n_features).\n",
    "        \"\"\"\n",
    "        # YOUR CODE HERE\n",
    "        y = self.norm_1(self.dropout_1(self.multihead_att_1(y, y, y, attn_mask = tgt_mask)[0]) + y)\n",
    "        \n",
    "        y = self.norm_2(self.dropout_2(self.multihead_att_2(\n",
    "            y, z, z, key_padding_mask= src_mask.T, attn_mask = tgt_mask\n",
    "        )[0]) + y)\n",
    "        \n",
    "        y = self.norm_3(self.dropout_3(self.feed(y)) + y)\n",
    "        return y"
   ]
  },
  {
   "cell_type": "code",
   "execution_count": 22,
   "metadata": {
    "deletable": false,
    "editable": false,
    "nbgrader": {
     "cell_type": "code",
     "checksum": "e9b349c444881b030f492a713a0ade9d",
     "grade": false,
     "grade_id": "cell-586469eac0b19254",
     "locked": true,
     "schema_version": 3,
     "solution": false,
     "task": false
    }
   },
   "outputs": [
    {
     "name": "stdout",
     "output_type": "stream",
     "text": [
      "/opt/software/lib/python3.10/site-packages/torch/nn/functional.py:5076: UserWarning: Support for mismatched key_padding_mask and attn_mask is deprecated. Use same type for both instead.\n",
      "  warnings.warn(\n",
      "Success\n"
     ]
    }
   ],
   "source": [
    "def test_DecoderBlock_shapes():\n",
    "    decoder_block = DecoderBlock(n_features=16, n_heads=4, n_hidden=64)\n",
    "\n",
    "    y = torch.tensor([\n",
    "        [1, 2],\n",
    "        [3, 4],\n",
    "        [5, 0],\n",
    "        [6, 0],\n",
    "    ]).float().view(4, 2, 1).repeat(1, 1, 16)  # (max_seq_length, batch_size, n_features)\n",
    "\n",
    "    z = torch.randn(4, 2, 16, requires_grad=True)  # (max_seq_length, batch_size, n_features)\n",
    "\n",
    "    src_mask = torch.tensor([\n",
    "        [0, 0],\n",
    "        [0, 0],\n",
    "        [0, 1],\n",
    "        [0, 1],\n",
    "    ], dtype=torch.bool)  # (max_seq_length, batch_size)\n",
    "\n",
    "    tgt_mask = subsequent_mask(y.size(0))\n",
    "\n",
    "    outputs = decoder_block(y, z, src_mask=src_mask, tgt_mask=tgt_mask)\n",
    "    assert outputs.shape == torch.Size([4, 2, 16]), f\"Wrong outputs.shape: {outputs.shape}\"\n",
    "    print('Success')\n",
    "\n",
    "test_DecoderBlock_shapes()"
   ]
  },
  {
   "cell_type": "code",
   "execution_count": 23,
   "metadata": {
    "deletable": false,
    "editable": false,
    "nbgrader": {
     "cell_type": "code",
     "checksum": "69e0dab83d63ad8412e15478e6d7b781",
     "grade": true,
     "grade_id": "test_DecoderBlock",
     "locked": true,
     "points": 1,
     "schema_version": 3,
     "solution": false,
     "task": false
    }
   },
   "outputs": [
    {
     "name": "stdout",
     "output_type": "stream",
     "text": [
      "outputs1[:2,1,:]:\n",
      " tensor([[-1.5790, -0.7291,  0.0630, -0.3655,  2.7363,  0.7599,  0.6164, -0.0491,\n",
      "          0.6220, -0.2625, -0.6603,  0.8619, -1.3680, -0.9186,  0.1800,  0.0926],\n",
      "        [-1.8800, -0.2614, -0.3282,  0.2375,  2.4856, -0.1125,  0.2778,  0.2561,\n",
      "          0.4235,  0.0702, -0.7831,  1.2545, -1.5751, -0.8229,  0.1760,  0.5820]])\n",
      "outputs2[:2,1,:]:\n",
      " tensor([[-1.5790, -0.7291,  0.0630, -0.3655,  2.7363,  0.7599,  0.6164, -0.0491,\n",
      "          0.6220, -0.2625, -0.6603,  0.8619, -1.3680, -0.9186,  0.1800,  0.0926],\n",
      "        [-1.9428, -0.1817, -0.3987,  0.3124,  2.3963, -0.2138,  0.1848,  0.3384,\n",
      "          0.3618,  0.1524, -0.8350,  1.2691, -1.5614, -0.7880,  0.2689,  0.6372]])\n",
      "outputs3[:2,1,:]:\n",
      " tensor([[-1.5790, -0.7291,  0.0630, -0.3655,  2.7363,  0.7599,  0.6164, -0.0491,\n",
      "          0.6220, -0.2625, -0.6603,  0.8619, -1.3680, -0.9186,  0.1800,  0.0926],\n",
      "        [-1.9428, -0.1817, -0.3987,  0.3124,  2.3963, -0.2138,  0.1848,  0.3384,\n",
      "          0.3618,  0.1524, -0.8350,  1.2691, -1.5614, -0.7880,  0.2689,  0.6372]])\n",
      "outputs4[:2,1,:]:\n",
      " tensor([[-1.3740, -0.6733, -0.7021,  0.7730,  1.9823,  0.2245, -0.0181, -0.1984,\n",
      "          0.5155,  0.2685, -0.5742,  2.2650, -1.5166, -0.3707, -0.5583, -0.0432],\n",
      "        [-1.4363, -0.0725, -1.0116,  1.3223,  1.2675, -0.6561, -0.3966,  0.1676,\n",
      "          0.1831,  0.6519, -0.6679,  2.2909, -1.5376, -0.2137, -0.3750,  0.4838]])\n",
      "outputs5[:2,1,:]:\n",
      " tensor([[-1.3740, -0.6733, -0.7021,  0.7730,  1.9823,  0.2245, -0.0181, -0.1984,\n",
      "          0.5155,  0.2685, -0.5742,  2.2650, -1.5166, -0.3707, -0.5583, -0.0432],\n",
      "        [-1.4363, -0.0725, -1.0116,  1.3223,  1.2675, -0.6561, -0.3966,  0.1676,\n",
      "          0.1831,  0.6519, -0.6679,  2.2909, -1.5376, -0.2137, -0.3750,  0.4838]])\n",
      "Success\n"
     ]
    }
   ],
   "source": [
    "# This cell tests DecoderBlock\n",
    "# Check that the signal does not propagate from the padded elements of the source sequence and\n",
    "# subsequent elements of the target sequence.\n",
    "@unittest.mock.patch('torch.nn.functional.dropout', no_dropout)  # .eval() does not disable F.dropout()\n",
    "def test_DecoderBlock():\n",
    "    with torch.no_grad():\n",
    "        decoder_block = DecoderBlock(n_features=16, n_heads=4, n_hidden=64)\n",
    "\n",
    "        y = torch.tensor([\n",
    "            [1, 2],\n",
    "            [3, 4],\n",
    "            [5, 0],\n",
    "            [6, 0],\n",
    "        ]).float().view(4, 2, 1).repeat(1, 1, 16)  # (max_seq_length, batch_size, n_features)\n",
    "\n",
    "        z = torch.randn(4, 2, 16)  # (max_seq_length, batch_size, n_features)\n",
    "\n",
    "        src_mask = torch.tensor([\n",
    "            [0, 0],\n",
    "            [0, 0],\n",
    "            [0, 1],\n",
    "            [0, 1],\n",
    "        ], dtype=torch.bool)  # (max_seq_length, batch_size)\n",
    "\n",
    "        tgt_mask = subsequent_mask(y.size(0))\n",
    "\n",
    "        outputs1 = decoder_block(y, z, src_mask=src_mask, tgt_mask=tgt_mask)\n",
    "        assert outputs1.shape == torch.Size([4, 2, 16]), f\"Wrong outputs1.shape: {outputs1.shape}\"\n",
    "        print('outputs1[:2,1,:]:\\n', outputs1[:2,1,:])\n",
    "\n",
    "        # Modify second element of y[1]\n",
    "        y[1,1,:] = y[1,1,:] + 1\n",
    "        outputs2 = decoder_block(y, z, src_mask=src_mask, tgt_mask=tgt_mask)\n",
    "        print('outputs2[:2,1,:]:\\n', outputs2[:2,1,:])\n",
    "        diff = outputs2[1,1,:] - outputs1[1,1,:]\n",
    "        assert torch.max(torch.abs(diff)) > 0, \"Some elements of the target sequence do not affect the output.\"\n",
    "        diff = outputs2[0,1,:] - outputs1[0,1,:]\n",
    "        assert torch.max(torch.abs(diff)) == 0, \"Subsequent elements of the target sequence affect the output.\"\n",
    "\n",
    "        # Modify padded values of y\n",
    "        y[2:,1,:] = y[2:,1,:] + 1\n",
    "        outputs3 = decoder_block(y, z, src_mask=src_mask, tgt_mask=tgt_mask)\n",
    "        print('outputs3[:2,1,:]:\\n', outputs3[:2,1,:])\n",
    "        diff = outputs3[:2,1,:] - outputs2[:2,1,:]\n",
    "        assert torch.max(torch.abs(diff)) == 0, \"Padding values in the target sequence affect the output.\"\n",
    "        \n",
    "        # Modify non-padded values of z\n",
    "        z[:2,1,:] = z[:2,1,:] + 1\n",
    "        outputs4 = decoder_block(y, z, src_mask=src_mask, tgt_mask=tgt_mask)\n",
    "        print('outputs4[:2,1,:]:\\n', outputs4[:2,1,:])\n",
    "        diff = outputs4[:2,1,:] - outputs3[:2,1,:]\n",
    "        assert torch.max(torch.abs(diff)) > 0, \"Some elements of the source sequence do not affect the output.\"\n",
    "\n",
    "        # Modify padded values of y\n",
    "        z[2:,1,:] = z[2:,1,:] + 1\n",
    "        outputs5 = decoder_block(y, z, src_mask=src_mask, tgt_mask=tgt_mask)\n",
    "        print('outputs5[:2,1,:]:\\n', outputs5[:2,1,:])\n",
    "        diff = outputs5[:2,1,:] - outputs4[:2,1,:]\n",
    "        assert torch.max(torch.abs(diff)) == 0, \"Padding values in the source sequence affect the output.\"\n",
    "\n",
    "        print('Success')\n",
    "\n",
    "test_DecoderBlock()"
   ]
  },
  {
   "cell_type": "markdown",
   "metadata": {
    "deletable": false,
    "editable": false,
    "nbgrader": {
     "cell_type": "markdown",
     "checksum": "75e526bbcb79bce524570c1f5fab827d",
     "grade": false,
     "grade_id": "cell-a30448f3b22189c6",
     "locked": true,
     "schema_version": 3,
     "solution": false,
     "task": false
    }
   },
   "source": [
    "<img src=\"decoder.png\" width=200 style=\"float: right;\">\n",
    "\n",
    "## Decoder\n",
    "\n",
    "The decoder is a stack of the following blocks:\n",
    "* Embedding of words (please use [nn.Embedding](https://pytorch.org/docs/stable/generated/torch.nn.Embedding.html#torch.nn.Embedding))\n",
    "* Positional encoding (please use `tr.PositionalEncoding` from the attached module)\n",
    "* `n_blocks` of the `DecoderBlock` modules.\n",
    "* A linear layer with `tgt_vocab_size` output features.\n",
    "* Log_softmax nonlinearity.\n",
    "\n",
    "Note: our longest sequences have length `MAX_LENGTH`, this is the value that you can use when you specify `PositionalEncoding`."
   ]
  },
  {
   "cell_type": "code",
   "execution_count": 24,
   "metadata": {
    "deletable": false,
    "nbgrader": {
     "cell_type": "code",
     "checksum": "d1b8877ee3226b22ab4145c196d6f50d",
     "grade": false,
     "grade_id": "Decoder",
     "locked": false,
     "schema_version": 3,
     "solution": true,
     "task": false
    }
   },
   "outputs": [],
   "source": [
    "class Decoder(nn.Module):\n",
    "    def __init__(self, tgt_vocab_size, n_blocks, n_features, n_heads, n_hidden=64, dropout=0.1):\n",
    "        \"\"\"\n",
    "        Args:\n",
    "          tgt_vocab_size: Number of words in the target vocabulary.\n",
    "          n_blocks: Number of EncoderBlock blocks.\n",
    "          n_features: Number of features to be used for word embedding and further in all layers of the decoder.\n",
    "          n_heads: Number of attention heads inside the DecoderBlock.\n",
    "          n_hidden: Number of hidden units in the Feedforward block of DecoderBlock.\n",
    "          dropout: Dropout level used in DecoderBlock.\n",
    "        \"\"\"\n",
    "        # YOUR CODE HERE\n",
    "        super(Decoder, self).__init__()\n",
    "        self.embedding = nn.Embedding(tgt_vocab_size, n_features)\n",
    "        self.encoding = tr.PositionalEncoding(n_features, dropout, MAX_LENGTH)\n",
    "        self.blocks = nn.ModuleList()\n",
    "        for _ in range(n_blocks):\n",
    "            self.blocks.append(DecoderBlock(n_features, n_heads, n_hidden, dropout))\n",
    "        self.linear = nn.Linear(n_features, tgt_vocab_size)\n",
    "        self.longsoftmax = nn.LogSoftmax(dim= -1)\n",
    "        \n",
    "    def forward(self, y, z, src_mask):\n",
    "        \"\"\"\n",
    "        Args:\n",
    "          y of shape (max_tgt_seq_length, batch_size): LongTensor with the target sequences.\n",
    "          z of shape (max_src_seq_length, batch_size, n_features): Encoded source sequences (outputs of the\n",
    "              encoder).\n",
    "          src_mask of shape (max_src_seq_length, batch_size): Boolean tensor indicating which elements of the\n",
    "             source sequences should be ignored.\n",
    "        \n",
    "        Returns:\n",
    "          out of shape (max_seq_length, batch_size, tgt_vocab_size): Log-softmax probabilities of the words\n",
    "              in the output sequences.\n",
    "\n",
    "        Notes:\n",
    "          * All intermediate signals should be of shape (max_seq_length, batch_size, n_features).\n",
    "          * You need to create and use the subsequent mask in the decoder.\n",
    "        \"\"\"\n",
    "        # YOUR CODE HERE\n",
    "        final_mask = subsequent_mask(y.size(0))\n",
    "        y = self.encoding(self.embedding(y))\n",
    "        for block in self.blocks:\n",
    "            y = block(y, z, src_mask, final_mask)\n",
    "        y = self.longsoftmax(self.linear(y))\n",
    "        return y"
   ]
  },
  {
   "cell_type": "code",
   "execution_count": 25,
   "metadata": {
    "deletable": false,
    "editable": false,
    "nbgrader": {
     "cell_type": "code",
     "checksum": "51bb46bd5ecbe26f8645207b8f0ff89b",
     "grade": false,
     "grade_id": "cell-2511aa618604b4a4",
     "locked": true,
     "schema_version": 3,
     "solution": false,
     "task": false
    }
   },
   "outputs": [
    {
     "name": "stdout",
     "output_type": "stream",
     "text": [
      "Success\n"
     ]
    }
   ],
   "source": [
    "def test_Decoder_shapes():\n",
    "    decoder = Decoder(tgt_vocab_size=10, n_blocks=1, n_features=16, n_heads=4, n_hidden=64)\n",
    "\n",
    "    y = torch.tensor([\n",
    "        [SOS_token,     SOS_token],\n",
    "        [        3,             4],\n",
    "        [        5,     EOS_token],\n",
    "        [        6, PADDING_VALUE],\n",
    "        [        7, PADDING_VALUE],\n",
    "    ])  # (max_seq_length, batch_size)\n",
    "\n",
    "    z = torch.randn(5, 2, 16)  # (max_seq_length, batch_size, n_features)\n",
    "\n",
    "    src_mask = torch.tensor([\n",
    "        [0, 0],\n",
    "        [0, 0],\n",
    "        [0, 0],\n",
    "        [0, 1],\n",
    "        [0, 1],\n",
    "    ], dtype=torch.bool)  # (max_seq_length, batch_size)\n",
    "\n",
    "    outputs = decoder(y, z, src_mask=src_mask)\n",
    "    assert outputs.shape == torch.Size([5, 2, 10]), f\"Wrong outputs.shape: {outputs.shape}\"\n",
    "    print('Success')\n",
    "\n",
    "test_Decoder_shapes()"
   ]
  },
  {
   "cell_type": "markdown",
   "metadata": {
    "deletable": false,
    "editable": false,
    "nbgrader": {
     "cell_type": "markdown",
     "checksum": "ac142e2969764fa1e646091bf0255a7a",
     "grade": false,
     "grade_id": "cell-10c28584fb58b386",
     "locked": true,
     "schema_version": 3,
     "solution": false,
     "task": false
    }
   },
   "source": [
    "# Train the transformer"
   ]
  },
  {
   "cell_type": "code",
   "execution_count": 26,
   "metadata": {
    "deletable": false,
    "editable": false,
    "nbgrader": {
     "cell_type": "code",
     "checksum": "21ab3ba0364f3ec7e43d3204c702e831",
     "grade": false,
     "grade_id": "cell-ec608760ebfa7f8e",
     "locked": true,
     "schema_version": 3,
     "solution": false,
     "task": false
    }
   },
   "outputs": [
    {
     "data": {
      "text/plain": [
       "Decoder(\n",
       "  (embedding): Embedding(2925, 256)\n",
       "  (encoding): PositionalEncoding(\n",
       "    (dropout): Dropout(p=0.1, inplace=False)\n",
       "  )\n",
       "  (blocks): ModuleList(\n",
       "    (0-2): 3 x DecoderBlock(\n",
       "      (multihead_att_1): MultiheadAttention(\n",
       "        (out_proj): NonDynamicallyQuantizableLinear(in_features=256, out_features=256, bias=True)\n",
       "      )\n",
       "      (multihead_att_2): MultiheadAttention(\n",
       "        (out_proj): NonDynamicallyQuantizableLinear(in_features=256, out_features=256, bias=True)\n",
       "      )\n",
       "      (dropout_1): Dropout(p=0.1, inplace=False)\n",
       "      (dropout_2): Dropout(p=0.1, inplace=False)\n",
       "      (dropout_3): Dropout(p=0.1, inplace=False)\n",
       "      (norm_1): LayerNorm((256,), eps=1e-05, elementwise_affine=True)\n",
       "      (norm_2): LayerNorm((256,), eps=1e-05, elementwise_affine=True)\n",
       "      (norm_3): LayerNorm((256,), eps=1e-05, elementwise_affine=True)\n",
       "      (feed): Sequential(\n",
       "        (0): Linear(in_features=256, out_features=1024, bias=True)\n",
       "        (1): Dropout(p=0.1, inplace=False)\n",
       "        (2): ReLU()\n",
       "        (3): Linear(in_features=1024, out_features=256, bias=True)\n",
       "      )\n",
       "    )\n",
       "  )\n",
       "  (linear): Linear(in_features=256, out_features=2925, bias=True)\n",
       "  (longsoftmax): LogSoftmax(dim=-1)\n",
       ")"
      ]
     },
     "execution_count": 26,
     "metadata": {},
     "output_type": "execute_result"
    }
   ],
   "source": [
    "# Create the transformer model\n",
    "n_features = 256\n",
    "encoder = Encoder(src_vocab_size=trainset.input_lang.n_words, n_blocks=3, n_features=n_features,\n",
    "                  n_heads=16, n_hidden=1024)\n",
    "decoder = Decoder(tgt_vocab_size=trainset.output_lang.n_words, n_blocks=3, n_features=n_features,\n",
    "                  n_heads=16, n_hidden=1024)\n",
    "\n",
    "encoder.to(device)\n",
    "decoder.to(device)"
   ]
  },
  {
   "cell_type": "markdown",
   "metadata": {
    "deletable": false,
    "editable": false,
    "nbgrader": {
     "cell_type": "markdown",
     "checksum": "c7452e92ad959e13ecdf0e16354afc06",
     "grade": false,
     "grade_id": "cell-b1645c0797a9d5f6",
     "locked": true,
     "schema_version": 3,
     "solution": false
    }
   },
   "source": [
    "### Training loop\n",
    "\n",
    "In the training loop, we first encode source sequences using the encoder. Then we decode the encoded sequences by the decoder which also receives shifted target sequences as inputs. The decoder outputs a tensor that contains log-softmax probabilities of words in the output language. You need to use those probabilities to compute the loss. Note that you need to ignore the padded values in the target sequences (similarly to Exercise 5).\n",
    "\n",
    "Hints:\n",
    "* The training loss should be smaller than 0.1 at the end of training.\n",
    "* If you use the `NoamOptimizer` defined below, you should reach the level of 0.1 after 15-20 epochs.\n",
    "* If you use the Adam optimizer with learning rate 0.001, you should reach the level of 0.1 after 40 epochs."
   ]
  },
  {
   "cell_type": "code",
   "execution_count": 27,
   "metadata": {
    "deletable": false,
    "editable": false,
    "nbgrader": {
     "cell_type": "code",
     "checksum": "3cc8a5cb93a4033853f0874b927adb57",
     "grade": false,
     "grade_id": "cell-3dcb8dddc9bd9ee7",
     "locked": true,
     "schema_version": 3,
     "solution": false,
     "task": false
    }
   },
   "outputs": [],
   "source": [
    "parameters = list(encoder.parameters()) + list(decoder.parameters())\n",
    "adam = torch.optim.Adam(parameters, lr=0, betas=(0.9, 0.98), eps=1e-9)\n",
    "optimizer = tr.NoamOptimizer(n_features, 0.4, 680, adam)\n",
    "#optimizer = torch.optim.Adam(parameters, lr=0.001)"
   ]
  },
  {
   "cell_type": "code",
   "execution_count": 28,
   "metadata": {
    "deletable": false,
    "nbgrader": {
     "cell_type": "code",
     "checksum": "6270848f5387bf01aba9bb5f50303a78",
     "grade": false,
     "grade_id": "training_loop",
     "locked": false,
     "schema_version": 3,
     "solution": true,
     "task": false
    }
   },
   "outputs": [
    {
     "name": "stdout",
     "output_type": "stream",
     "text": [
      "Epoch 0, mean loss 4.9890787671594055\n",
      "Epoch 1, mean loss 2.638176860178218\n",
      "Epoch 2, mean loss 2.04381886825842\n",
      "Epoch 3, mean loss 1.6536344254718107\n",
      "Epoch 4, mean loss 1.3380206551621943\n",
      "Epoch 5, mean loss 1.0725256831330412\n",
      "Epoch 6, mean loss 0.8325976050075363\n",
      "Epoch 7, mean loss 0.6559657960691873\n",
      "Epoch 8, mean loss 0.5285986517282093\n",
      "Epoch 9, mean loss 0.413718618452549\n",
      "Epoch 10, mean loss 0.3467864574974074\n",
      "Epoch 11, mean loss 0.28336762384895015\n",
      "Epoch 12, mean loss 0.24976043096360037\n",
      "Epoch 13, mean loss 0.21130138087798567\n",
      "Epoch 16, mean loss 0.16056828776045756\n",
      "Epoch 17, mean loss 0.14288075016263654\n",
      "Epoch 18, mean loss 0.1334149541114183\n",
      "Epoch 19, mean loss 0.1275472863960792\n",
      "Epoch 20, mean loss 0.11773822456598282\n",
      "Epoch 21, mean loss 0.11225879652535214\n",
      "Epoch 22, mean loss 0.10406308664995081\n",
      "Epoch 23, mean loss 0.10169386819881551\n",
      "Epoch 24, mean loss 0.09751716387622497\n",
      "Epoch 25, mean loss 0.09686031488373\n",
      "Epoch 26, mean loss 0.0897095521692844\n",
      "Epoch 27, mean loss 0.0840913456700304\n",
      "Epoch 28, mean loss 0.08459149492794976\n",
      "Epoch 29, mean loss 0.07765716884066076\n",
      "Final loss:  0.07765716884066076\n"
     ]
    }
   ],
   "source": [
    "# Implement the training loop in this cell\n",
    "if not skip_training:\n",
    "    # YOUR CODE HERE\n",
    "    epochs = 30\n",
    "    for epoch in range(epochs):\n",
    "        this_loss = []\n",
    "        for src_seqs, src_mask, tgt_seqs in trainloader:\n",
    "            optimizer.zero_grad()\n",
    "            src_seqs = src_seqs.to(device)\n",
    "            src_mask = src_mask.to(device)\n",
    "            tgt_seqs = tgt_seqs.to(device)\n",
    "            \n",
    "            encoded = encoder.forward(src_seqs, src_mask)\n",
    "            output = decoder(tgt_seqs[:-1], encoded, src_mask)\n",
    "            output = output.view(-1, output.size(2))\n",
    "            target = tgt_seqs[1:].view(-1)\n",
    "            loss = F.nll_loss(output, target, ignore_index= PADDING_VALUE)\n",
    "            loss.backward()\n",
    "            this_loss.append(loss.item())\n",
    "            optimizer.step()\n",
    "        mean_loss = np.mean(this_loss)\n",
    "        print(f\"Epoch {epoch}, mean loss {mean_loss}\")\n",
    "    print('Final loss: ', mean_loss)"
   ]
  },
  {
   "cell_type": "code",
   "execution_count": 29,
   "metadata": {},
   "outputs": [
    {
     "name": "stdout",
     "output_type": "stream",
     "text": [
      "Model saved to 1_tr_encoder.pth.\n",
      "Model saved to 1_tr_decoder.pth.\n"
     ]
    }
   ],
   "source": [
    "# Save the model to disk (the pth-files will be submitted automatically together with your notebook)\n",
    "# Set confirm=False if you do not want to be asked for confirmation before saving.\n",
    "if not skip_training:\n",
    "    tools.save_model(encoder, '1_tr_encoder.pth', confirm=True)\n",
    "    tools.save_model(decoder, '1_tr_decoder.pth', confirm=True)"
   ]
  },
  {
   "cell_type": "code",
   "execution_count": 30,
   "metadata": {
    "deletable": false,
    "editable": false,
    "nbgrader": {
     "cell_type": "code",
     "checksum": "623dde0b23a00fea2b9ede9fe041fade",
     "grade": false,
     "grade_id": "accuracy",
     "locked": true,
     "schema_version": 3,
     "solution": false,
     "task": false
    }
   },
   "outputs": [],
   "source": [
    "if skip_training:\n",
    "    encoder = Encoder(src_vocab_size=trainset.input_lang.n_words, n_blocks=3, n_features=256, n_heads=16, n_hidden=1024)\n",
    "    tools.load_model(encoder, '1_tr_encoder.pth', device)\n",
    "    \n",
    "    decoder = Decoder(tgt_vocab_size=trainset.output_lang.n_words, n_blocks=3, n_features=256, n_heads=16, n_hidden=1024)\n",
    "    tools.load_model(decoder, '1_tr_decoder.pth', device)"
   ]
  },
  {
   "cell_type": "code",
   "execution_count": 31,
   "metadata": {
    "deletable": false,
    "editable": false,
    "nbgrader": {
     "cell_type": "code",
     "checksum": "54788aadd640f3e28e828ecd8bac433a",
     "grade": true,
     "grade_id": "cell-985f2404fb056035",
     "locked": true,
     "points": 1,
     "schema_version": 3,
     "solution": false,
     "task": false
    }
   },
   "outputs": [],
   "source": [
    "# This cell tests the trained transformer"
   ]
  },
  {
   "cell_type": "markdown",
   "metadata": {
    "deletable": false,
    "editable": false,
    "nbgrader": {
     "cell_type": "markdown",
     "checksum": "bbe8e80ea48ee0d2a224a9c2c1b2ac84",
     "grade": false,
     "grade_id": "cell-25e4072e5588afaa",
     "locked": true,
     "schema_version": 3,
     "solution": false
    }
   },
   "source": [
    "# Generate translations with the trained model\n",
    "\n",
    "In the cell below, implement a function that converts an input sequence to an output sequence using the trained transformer.\n",
    "\n",
    "Notes:\n",
    "* Since we do not need to compute the gradients in the evaluation phase, we can speed up the computations by using the statement `with torch.no_grad():`.\n",
    "* Please transfer the tensors to `device` inside this function.\n",
    "* We may deduct some points for an ineffecient implementation of `translate()`."
   ]
  },
  {
   "cell_type": "code",
   "execution_count": 32,
   "metadata": {
    "deletable": false,
    "nbgrader": {
     "cell_type": "code",
     "checksum": "a6e4df363d49dedc5988600dae2a0c27",
     "grade": false,
     "grade_id": "cell-870f9d3b10a20a75",
     "locked": false,
     "schema_version": 3,
     "solution": true,
     "task": false
    }
   },
   "outputs": [],
   "source": [
    "def translate(encoder, decoder, src_seqs, src_mask):\n",
    "    \"\"\"Translate sequences from the source language to the target language using the trained model.\n",
    "    \n",
    "    Args:\n",
    "      encoder (Encoder): Trained encoder.\n",
    "      decoder (Decoder): Trained decoder.\n",
    "      src_seqs of shape (max_src_seq_length, batch_size): LongTensor of padded source sequences.\n",
    "      src_mask of shape (max_src_seq_length, batch_size): BoolTensor indicating which elements of the src_seqs\n",
    "          tensor should be ignored in computations: True values in src_mask correspond to padding values in src_seqs.\n",
    "    \n",
    "    Returns:\n",
    "      out_seqs of shape (MAX_LENGTH, batch_size): LongTensor of word indices of the output sequences.\n",
    "      \n",
    "      NOTE: The SOS token should not be included in out_seqs.\n",
    "    \"\"\"\n",
    "    # YOUR CODE HERE\n",
    "    with torch.no_grad():\n",
    "        if src_seqs.size(0) != MAX_LENGTH:\n",
    "            mask = np.ones((MAX_LENGTH - src_seqs.size(0), src_seqs.size(1)))\n",
    "            src_seqs = torch.cat((src_seqs, torch.LongTensor(EOS_token * mask)))\n",
    "            src_mask = torch.cat((src_mask, torch.BoolTensor(mask)))\n",
    "        \n",
    "        encoded = encoder.forward(src_seqs, src_mask)\n",
    "        sos_lt = torch.LongTensor(SOS_token * np.ones((MAX_LENGTH + 1, src_seqs.size(1))))\n",
    "        for i in range(MAX_LENGTH):\n",
    "            output = decoder.forward(sos_lt[:-1], encoded, src_mask)\n",
    "            sos_lt[i+1,:] = torch.argmax(output, dim=2)[i,:]\n",
    "        final_seqs = sos_lt[1:]\n",
    "        final_seqs.to(device)\n",
    "        return final_seqs"
   ]
  },
  {
   "cell_type": "code",
   "execution_count": 33,
   "metadata": {
    "deletable": false,
    "editable": false,
    "nbgrader": {
     "cell_type": "code",
     "checksum": "e58e60d452d9d0bf8612e3f3ac9a5040",
     "grade": true,
     "grade_id": "cell-ce3fec48785a469b",
     "locked": true,
     "points": 0,
     "schema_version": 3,
     "solution": false,
     "task": false
    }
   },
   "outputs": [
    {
     "name": "stdout",
     "output_type": "stream",
     "text": [
      "Success\n"
     ]
    }
   ],
   "source": [
    "def test_translate_shapes():\n",
    "    src_seqs = torch.tensor([\n",
    "        [1, 2],\n",
    "        [2, 3],\n",
    "        [3, 0],\n",
    "        [4, 0]\n",
    "    ])\n",
    "    src_mask = torch.tensor([\n",
    "        [0, 0],\n",
    "        [0, 0],\n",
    "        [0, 1],\n",
    "        [0, 1],\n",
    "    ], dtype=torch.bool)  # (max_seq_length, batch_size)\n",
    "\n",
    "    src_seqs, src_mask = src_seqs.to(device), src_mask.to(device)\n",
    "    out_seqs = translate(encoder, decoder, src_seqs, src_mask)\n",
    "    assert not torch.any(out_seqs[0] == SOS_token), \"out_seqs should not include the SOS_token.\"\n",
    "    assert out_seqs.shape == torch.Size([MAX_LENGTH, 2]), f\"Wrong out_seqs.shape: {out_seqs.shape}\"\n",
    "    print('Success')\n",
    "\n",
    "test_translate_shapes()"
   ]
  },
  {
   "cell_type": "code",
   "execution_count": 34,
   "metadata": {
    "deletable": false,
    "editable": false,
    "nbgrader": {
     "cell_type": "code",
     "checksum": "851357309224307e5d09e547d6ef68be",
     "grade": true,
     "grade_id": "cell-faacada7cd5bb286",
     "locked": true,
     "points": 1,
     "schema_version": 3,
     "solution": false,
     "task": false
    }
   },
   "outputs": [
    {
     "name": "stdout",
     "output_type": "stream",
     "text": [
      "out_seqs:\n",
      " tensor([[  1,   1],\n",
      "        [  2,   2],\n",
      "        [  4,   4],\n",
      "        [  8,   8],\n",
      "        [ 16,  16],\n",
      "        [ 32,  32],\n",
      "        [ 64,  64],\n",
      "        [128, 128],\n",
      "        [256, 256],\n",
      "        [512, 512]])\n",
      "expected:\n",
      " tensor([[  1,   1],\n",
      "        [  2,   2],\n",
      "        [  4,   4],\n",
      "        [  8,   8],\n",
      "        [ 16,  16],\n",
      "        [ 32,  32],\n",
      "        [ 64,  64],\n",
      "        [128, 128],\n",
      "        [256, 256],\n",
      "        [512, 512]])\n",
      "Success\n"
     ]
    }
   ],
   "source": [
    "# This cell tests your implementation of translate()\n",
    "def test_translate():\n",
    "    src_seqs = torch.tensor([\n",
    "        [1, 2],\n",
    "        [2, 3],\n",
    "        [3, 0],\n",
    "        [4, 0]\n",
    "    ])\n",
    "    src_mask = torch.tensor([\n",
    "        [0, 0],\n",
    "        [0, 0],\n",
    "        [0, 1],\n",
    "        [0, 1],\n",
    "    ], dtype=torch.bool)  # (batch_size, max_seq_length)\n",
    "\n",
    "    class _Encoder(nn.Module):\n",
    "        def forward(self, x, mask):\n",
    "            return x.float()\n",
    "\n",
    "    class _Decoder(nn.Module):\n",
    "        def __init__(self):\n",
    "            self._counter = 0\n",
    "            super(_Decoder, self).__init__()\n",
    "            \n",
    "        def forward(self, y, z, src_mask):\n",
    "            vocab_size = trainset.output_lang.n_words\n",
    "            ix = torch.minimum(y.cumsum(dim=0).long() + 1, torch.full_like(y, (vocab_size - 1)))\n",
    "            #ix = y.cumsum(dim=0).long() + 1\n",
    "            out = torch.zeros(y.size(0), y.size(1), vocab_size)\n",
    "            for i in range(y.size(1)):\n",
    "                out[torch.arange(y.size(0)), i, ix[:, i]] = 1\n",
    "            return out\n",
    "\n",
    "    with torch.no_grad():\n",
    "        encoder = _Encoder()\n",
    "        decoder = _Decoder()\n",
    "        out_seqs = translate(encoder, decoder, src_seqs, src_mask).cpu()\n",
    "    print('out_seqs:\\n', out_seqs)\n",
    "    expected = torch.tensor([\n",
    "        [  1,   1],\n",
    "        [  2,   2],\n",
    "        [  4,   4],\n",
    "        [  8,   8],\n",
    "        [ 16,  16],\n",
    "        [ 32,  32],\n",
    "        [ 64,  64],\n",
    "        [128, 128],\n",
    "        [256, 256],\n",
    "        [512, 512]])\n",
    "    print('expected:\\n', expected)\n",
    "    assert (out_seqs == expected).all(), \"out_seqs does not match expected value.\"\n",
    "    TRANSLATE_IS_CORRECT = True\n",
    "    print('Success')\n",
    "    \n",
    "test_translate()"
   ]
  },
  {
   "cell_type": "code",
   "execution_count": 35,
   "metadata": {
    "deletable": false,
    "editable": false,
    "nbgrader": {
     "cell_type": "code",
     "checksum": "06bbbbacf38af8dcd371f4f8d90a3494",
     "grade": true,
     "grade_id": "cell-bbd806e753b38b5a",
     "locked": true,
     "points": 1,
     "schema_version": 3,
     "solution": false,
     "task": false
    }
   },
   "outputs": [
    {
     "name": "stdout",
     "output_type": "stream",
     "text": [
      "out_seqs:\n",
      " tensor([[  1,   1],\n",
      "        [  2,   2],\n",
      "        [  4,   4],\n",
      "        [  8,   8],\n",
      "        [ 16,  16],\n",
      "        [ 32,  32],\n",
      "        [ 64,  64],\n",
      "        [128, 128],\n",
      "        [256, 256],\n",
      "        [512, 512]])\n",
      "expected:\n",
      " tensor([[  1,   1],\n",
      "        [  2,   2],\n",
      "        [  4,   4],\n",
      "        [  8,   8],\n",
      "        [ 16,  16],\n",
      "        [ 32,  32],\n",
      "        [ 64,  64],\n",
      "        [128, 128],\n",
      "        [256, 256],\n",
      "        [512, 512]])\n",
      "Success\n",
      "Time: 0.49230051040649414\n",
      "Success\n"
     ]
    }
   ],
   "source": [
    "# This cell tests your implementation of translate()\n",
    "try:\n",
    "    test_translate()\n",
    "except:\n",
    "    raise 'translate() function should correctly implemented to get points for speed.'\n",
    "\n",
    "import time\n",
    "def test_translate_speed():\n",
    "    start_time = time.time()\n",
    "    for src_seqs, src_mask, tgt_seqs in trainloader:\n",
    "        out_seqs = translate(encoder, decoder, src_seqs, src_mask)\n",
    "        break\n",
    "    end_time = time.time()\n",
    "    print(f'Time: {end_time - start_time}')\n",
    "    assert end_time - start_time < 1, \"Too slow implementation. You must have an unnecessary for-loop in your code.\"\n",
    "    print('Success')\n",
    "\n",
    "test_translate_speed()"
   ]
  },
  {
   "cell_type": "markdown",
   "metadata": {
    "deletable": false,
    "editable": false,
    "nbgrader": {
     "cell_type": "markdown",
     "checksum": "2a7476bd986bb058cb138bfba26f2f92",
     "grade": false,
     "grade_id": "cell-b57f4854a969cb31",
     "locked": true,
     "schema_version": 3,
     "solution": false,
     "task": false
    }
   },
   "source": [
    "Below, we translate sentences from the training set. For a well-trained transformer, the translations should look similar to the target sentences."
   ]
  },
  {
   "cell_type": "code",
   "execution_count": 36,
   "metadata": {
    "deletable": false,
    "editable": false,
    "nbgrader": {
     "cell_type": "code",
     "checksum": "303eed1d5a4185b59a3489fe57755342",
     "grade": false,
     "grade_id": "cell-a8ba1c2f1b1173fc",
     "locked": true,
     "schema_version": 3,
     "solution": false,
     "task": false
    }
   },
   "outputs": [],
   "source": [
    "def seq_to_tokens(seq, lang):\n",
    "    'Convert a sequence of word indices into a list of words (strings).'\n",
    "    sentence = []\n",
    "    for i in seq:\n",
    "        if i == EOS_token:\n",
    "            break\n",
    "        sentence.append(lang.index2word[i.item()])\n",
    "    return(sentence)\n",
    "\n",
    "def seq_to_string(seq, lang):\n",
    "    'Convert a sequence of word indices into a sentence string.'\n",
    "    return(' '.join(seq_to_tokens(seq, lang)))"
   ]
  },
  {
   "cell_type": "code",
   "execution_count": 37,
   "metadata": {
    "deletable": false,
    "editable": false,
    "nbgrader": {
     "cell_type": "code",
     "checksum": "d72930240f694f36eaea6d80605f70a4",
     "grade": true,
     "grade_id": "cell-fb6fdac69a71a0c9",
     "locked": true,
     "points": 0,
     "schema_version": 3,
     "solution": false,
     "task": false
    }
   },
   "outputs": [
    {
     "name": "stdout",
     "output_type": "stream",
     "text": [
      "Translate training data:\n",
      "-----------------------------\n",
      "SRC: il est desormais a son compte .\n",
      "TGT: he is now on his own .\n",
      "OUT: he s now at his desk .\n",
      "\n",
      "SRC: tu n es pas fatiguee si ?\n",
      "TGT: you re not tired are you ?\n",
      "OUT: you re not tired are you ?\n",
      "\n",
      "SRC: nous tentons le diable .\n",
      "TGT: we re tempting fate .\n",
      "OUT: we re tempting fate .\n",
      "\n",
      "SRC: il parle vite .\n",
      "TGT: he is a fast speaker .\n",
      "OUT: he is a fast speaker .\n",
      "\n",
      "SRC: il est accro a l hero .\n",
      "TGT: he s addicted to heroin .\n",
      "OUT: he s addicted to heroin .\n",
      "\n"
     ]
    }
   ],
   "source": [
    "# Translate a few sentences from the training set\n",
    "print('Translate training data:')\n",
    "print('-----------------------------')\n",
    "src_seqs, src_mask, tgt_seqs = next(iter(trainloader))\n",
    "out_seqs = translate(encoder, decoder, src_seqs, src_mask)\n",
    "\n",
    "for i in range(5):\n",
    "    print('SRC:', seq_to_string(src_seqs[:,i], trainset.input_lang))\n",
    "    print('TGT:', seq_to_string(tgt_seqs[1:,i], trainset.output_lang))\n",
    "    print('OUT:', seq_to_string(out_seqs[:,i], trainset.output_lang))\n",
    "    print('')"
   ]
  },
  {
   "cell_type": "markdown",
   "metadata": {
    "deletable": false,
    "editable": false,
    "nbgrader": {
     "cell_type": "markdown",
     "checksum": "a1d5f46da25dace4601c3cc25ef206da",
     "grade": false,
     "grade_id": "cell-67752c380a50b644",
     "locked": true,
     "schema_version": 3,
     "solution": false,
     "task": false
    }
   },
   "source": [
    "Below, we translate sentences from the test set. For a well-trained transformer, the translations are typically\n",
    "worse than for the training sequences but they still look reasonable."
   ]
  },
  {
   "cell_type": "code",
   "execution_count": 38,
   "metadata": {
    "deletable": false,
    "editable": false,
    "nbgrader": {
     "cell_type": "code",
     "checksum": "45143560c78f29599468ee0f359a4f38",
     "grade": true,
     "grade_id": "cell-6b598b0fd1633b71",
     "locked": true,
     "points": 0,
     "schema_version": 3,
     "solution": false,
     "task": false
    }
   },
   "outputs": [
    {
     "name": "stdout",
     "output_type": "stream",
     "text": [
      "Translate test data:\n",
      "-----------------------------\n",
      "SRC: je suis juste une fille normale .\n",
      "TGT: i m just an average girl .\n",
      "OUT: i m just a normal girl .\n",
      "\n",
      "SRC: il est toujours en train de se plaindre .\n",
      "TGT: he is constantly complaining .\n",
      "OUT: he s always on the back .\n",
      "\n",
      "SRC: je vous suis reconnaissant de votre gentillesse .\n",
      "TGT: i am grateful to you for your kindness .\n",
      "OUT: i m your daughter .\n",
      "\n",
      "SRC: je suis impatiente de te voir danser .\n",
      "TGT: i m looking forward to seeing you dance .\n",
      "OUT: i am looking forward to seeing you .\n",
      "\n",
      "SRC: nous sommes endurantes .\n",
      "TGT: we re resilient .\n",
      "OUT: we re resilient .\n",
      "\n"
     ]
    }
   ],
   "source": [
    "print('Translate test data:')\n",
    "print('-----------------------------')\n",
    "src_seqs, src_mask, tgt_seqs = next(iter(testloader))\n",
    "out_seqs = translate(encoder, decoder, src_seqs, src_mask)\n",
    "\n",
    "for i in range(5):\n",
    "    print('SRC:', seq_to_string(src_seqs[:,i], testset.input_lang))\n",
    "    print('TGT:', seq_to_string(tgt_seqs[1:,i], testset.output_lang))\n",
    "    print('OUT:', seq_to_string(out_seqs[:,i], testset.output_lang))\n",
    "    print('')"
   ]
  },
  {
   "cell_type": "markdown",
   "metadata": {
    "deletable": false,
    "editable": false,
    "nbgrader": {
     "cell_type": "markdown",
     "checksum": "21cef34c8dd81d76d85a2ad72105dac9",
     "grade": false,
     "grade_id": "cell-67c9d1b917f1f917",
     "locked": true,
     "schema_version": 3,
     "solution": false,
     "task": false
    }
   },
   "source": [
    "## Compute BLEU score\n",
    "\n",
    "Let us now compute the [BLEU score](https://en.wikipedia.org/wiki/BLEU) for the translations produced by our model. We can use the PyTorch function [bleu_score](https://pytorch.org/text/stable/data_metrics.html?highlight=bleu_score#torchtext.data.metrics.bleu_score) for that.\n",
    "\n",
    "* **Your model should achieve a minimum BLEU score of 92 on the training set.**\n",
    "* The BLEU score on the test set should be greater than 55.\n",
    "\n",
    "The model can severly overfit to the training set and we do not cope with the overfitting problem in this exercise."
   ]
  },
  {
   "cell_type": "code",
   "execution_count": 39,
   "metadata": {
    "deletable": false,
    "editable": false,
    "nbgrader": {
     "cell_type": "code",
     "checksum": "bd58221014bd67cbf6347fd0b4d19a00",
     "grade": false,
     "grade_id": "cell-5a0ad89516fd02e4",
     "locked": true,
     "schema_version": 3,
     "solution": false,
     "task": false
    }
   },
   "outputs": [],
   "source": [
    "from torchtext.data.metrics import bleu_score"
   ]
  },
  {
   "cell_type": "code",
   "execution_count": 40,
   "metadata": {},
   "outputs": [
    {
     "name": "stdout",
     "output_type": "stream",
     "text": [
      "/opt/software/lib/python3.10/site-packages/torch/nn/functional.py:5076: UserWarning: Support for mismatched key_padding_mask and attn_mask is deprecated. Use same type for both instead.\n",
      "  warnings.warn(\n",
      "BLEU score on training data: 92.47961133167985\n"
     ]
    }
   ],
   "source": [
    "if not skip_training:\n",
    "    # Create translations for the training set\n",
    "    candidate_corpus = []\n",
    "    references_corpus = []\n",
    "    for src_seqs, src_mask, tgt_seqs in trainloader:\n",
    "        out_seqs = translate(encoder, decoder, src_seqs, src_mask)\n",
    "        candidate_corpus.extend([seq_to_tokens(seq, trainset.output_lang) for seq in out_seqs.T])\n",
    "        references_corpus.extend([[seq_to_tokens(seq, trainset.output_lang)] for seq in tgt_seqs[1:].T])\n",
    "\n",
    "    # Compute BLEU for translations\n",
    "    score = bleu_score(candidate_corpus, references_corpus)\n",
    "    print(f'BLEU score on training data: {score*100}')\n",
    "    assert score*100 > 90, \"The BLEU score is too low.\""
   ]
  },
  {
   "cell_type": "code",
   "execution_count": 41,
   "metadata": {
    "deletable": false,
    "editable": false,
    "nbgrader": {
     "cell_type": "code",
     "checksum": "bc511949cc558ce496877f0485edfea8",
     "grade": true,
     "grade_id": "cell-fa389a3327f82c0d",
     "locked": true,
     "points": 1,
     "schema_version": 3,
     "solution": false,
     "task": false
    }
   },
   "outputs": [
    {
     "name": "stdout",
     "output_type": "stream",
     "text": [
      "BLEU score on training data: 95.03688216209412\n",
      "Success\n"
     ]
    }
   ],
   "source": [
    "# This cell is reserved for grading\n",
    "def test_bleu():\n",
    "    # Create translations for the training set\n",
    "    candidate_corpus = []\n",
    "    references_corpus = []\n",
    "    for i, (src_seqs, src_mask, tgt_seqs) in enumerate(trainloader):\n",
    "        out_seqs = translate(encoder, decoder, src_seqs, src_mask)\n",
    "        candidate_corpus.extend([seq_to_tokens(seq, trainset.output_lang) for seq in out_seqs.T])\n",
    "        references_corpus.extend([[seq_to_tokens(seq, trainset.output_lang)] for seq in tgt_seqs[1:].T])\n",
    "        if i == 3:\n",
    "            break  # Use only 4 batches for testing\n",
    "\n",
    "    # Compute BLEU for translations\n",
    "    score = bleu_score(candidate_corpus, references_corpus)\n",
    "    print(f'BLEU score on training data: {score*100}')\n",
    "    assert score*100 > 92, \"The BLEU score is too low.\"\n",
    "    print('Success')\n",
    "\n",
    "test_bleu()"
   ]
  },
  {
   "cell_type": "code",
   "execution_count": 42,
   "metadata": {
    "deletable": false,
    "editable": false,
    "nbgrader": {
     "cell_type": "code",
     "checksum": "0dbb1bbb7ec0069a7a507568a11435a8",
     "grade": true,
     "grade_id": "cell-49d0466ea4a34ba0",
     "locked": true,
     "points": 1,
     "schema_version": 3,
     "solution": false,
     "task": false
    }
   },
   "outputs": [
    {
     "name": "stdout",
     "output_type": "stream",
     "text": [
      "BLEU score on test data: 56.268757581710815\n"
     ]
    }
   ],
   "source": [
    "# Create translations for the test set\n",
    "candidate_corpus = []\n",
    "references_corpus = []\n",
    "for i, (src_seqs, src_mask, tgt_seqs) in enumerate(testloader):\n",
    "    out_seqs = translate(encoder, decoder, src_seqs, src_mask)\n",
    "    candidate_corpus.extend([seq_to_tokens(seq, testset.output_lang) for seq in out_seqs.T])\n",
    "    references_corpus.extend([[seq_to_tokens(seq, testset.output_lang)] for seq in tgt_seqs[1:].T])\n",
    "    if i == 1:\n",
    "        break  # Use only 2 batches for testing\n",
    "\n",
    "# Compute BLEU for translations\n",
    "score = bleu_score(candidate_corpus, references_corpus)\n",
    "print(f'BLEU score on test data: {score*100}')\n",
    "assert score*100 > 55, \"The BLEU score is too low.\""
   ]
  },
  {
   "cell_type": "markdown",
   "metadata": {
    "deletable": false,
    "editable": false,
    "nbgrader": {
     "cell_type": "markdown",
     "checksum": "c25aadf68f7f6983cd16a664ee1f44b7",
     "grade": false,
     "grade_id": "cell-14e56d480d46ea14",
     "locked": true,
     "schema_version": 3,
     "solution": false,
     "task": false
    }
   },
   "source": [
    "<div class=\"alert alert-block alert-info\">\n",
    "<b>Conclusion</b>\n",
    "</div>\n",
    "\n",
    "In this notebook:\n",
    "* We trained a transformer-based sequence-to-sequence model for statistical machine translation."
   ]
  }
 ],
 "metadata": {
  "kernelspec": {
   "display_name": "Python 3",
   "language": "python",
   "name": "python3"
  },
  "language_info": {
   "codemirror_mode": {
    "name": "ipython",
    "version": 3
   },
   "file_extension": ".py",
   "mimetype": "text/x-python",
   "name": "python",
   "nbconvert_exporter": "python",
   "pygments_lexer": "ipython3",
   "version": "3.10.12"
  },
  "varInspector": {
   "cols": {
    "lenName": 16,
    "lenType": 16,
    "lenVar": 40
   },
   "kernels_config": {
    "python": {
     "delete_cmd_postfix": "",
     "delete_cmd_prefix": "del ",
     "library": "var_list.py",
     "varRefreshCmd": "print(var_dic_list())"
    },
    "r": {
     "delete_cmd_postfix": ") ",
     "delete_cmd_prefix": "rm(",
     "library": "var_list.r",
     "varRefreshCmd": "cat(var_dic_list()) "
    }
   },
   "types_to_exclude": [
    "module",
    "function",
    "builtin_function_or_method",
    "instance",
    "_Feature"
   ],
   "window_display": false
  }
 },
 "nbformat": 4,
 "nbformat_minor": 4
}
